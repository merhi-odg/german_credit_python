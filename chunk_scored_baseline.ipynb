{
 "cells": [
  {
   "cell_type": "code",
   "execution_count": 1,
   "id": "b8d2a21f-8d51-41f9-850a-ccf51c181781",
   "metadata": {},
   "outputs": [],
   "source": [
    "import pandas as pd\n",
    "import numpy as np\n",
    "np.random.seed(777)"
   ]
  },
  {
   "cell_type": "code",
   "execution_count": 2,
   "id": "e2bd658a-f33a-46c4-b23a-2911d7700988",
   "metadata": {},
   "outputs": [],
   "source": [
    "baseline = pd.read_json('df_baseline_scored.json', orient='records', lines=True)"
   ]
  },
  {
   "cell_type": "code",
   "execution_count": 3,
   "id": "9f36f06e-9db7-41bf-bf38-9805572915de",
   "metadata": {},
   "outputs": [],
   "source": [
    "baseline = baseline.sort_values('duration_months').reset_index(drop=True)"
   ]
  },
  {
   "cell_type": "code",
   "execution_count": 4,
   "id": "35afff4c-9a4a-4f62-a92e-d0bb629b247f",
   "metadata": {},
   "outputs": [],
   "source": [
    "rand = []\n",
    "for i in range(800):\n",
    "    if i < 160:\n",
    "        rand.append(np.random.rand() * 0.4)\n",
    "    elif i < 320:\n",
    "        rand.append(np.random.rand() * 0.4 + 0.2)\n",
    "    elif i < 480:\n",
    "        rand.append(np.random.rand()* 0.4 + 0.4)\n",
    "    elif i < 640:\n",
    "        rand.append(np.random.rand() * 0.4 + 0.6)\n",
    "    else:\n",
    "        rand.append(np.random.rand() * 0.2 + 0.8)"
   ]
  },
  {
   "cell_type": "code",
   "execution_count": 5,
   "id": "cd4adbb5-c26a-4e77-af97-3c2fac1d04e1",
   "metadata": {},
   "outputs": [],
   "source": [
    "baseline['rand'] = rand"
   ]
  },
  {
   "cell_type": "code",
   "execution_count": 6,
   "id": "1f0b813d-53b7-4326-b717-34fd14b3e452",
   "metadata": {},
   "outputs": [],
   "source": [
    "def num_vals(a, b):\n",
    "    if not a:\n",
    "        a = 0\n",
    "    if not b:\n",
    "        b = 1\n",
    "    print(\n",
    "        baseline[(baseline['rand'] >= a) & (baseline['rand'] < b)].shape\n",
    "    )"
   ]
  },
  {
   "cell_type": "code",
   "execution_count": 7,
   "id": "bd8e9401-975e-4a15-84d9-a83b9366a4f7",
   "metadata": {},
   "outputs": [
    {
     "name": "stdout",
     "output_type": "stream",
     "text": [
      "(156, 24)\n"
     ]
    }
   ],
   "source": [
    "num_vals(None, .28)"
   ]
  },
  {
   "cell_type": "code",
   "execution_count": 8,
   "id": "0d8ae0b2-dadb-4be4-a40e-0056ded29a4e",
   "metadata": {},
   "outputs": [
    {
     "name": "stdout",
     "output_type": "stream",
     "text": [
      "(161, 24)\n"
     ]
    }
   ],
   "source": [
    "num_vals(0.28, .48)"
   ]
  },
  {
   "cell_type": "code",
   "execution_count": 9,
   "id": "88ca9fca-209d-4982-a3b8-da2132682d3f",
   "metadata": {},
   "outputs": [
    {
     "name": "stdout",
     "output_type": "stream",
     "text": [
      "(166, 24)\n"
     ]
    }
   ],
   "source": [
    "num_vals(.48, .7)"
   ]
  },
  {
   "cell_type": "code",
   "execution_count": 10,
   "id": "28137c3c-788f-4ed8-a3d6-7d11a73500fb",
   "metadata": {},
   "outputs": [
    {
     "name": "stdout",
     "output_type": "stream",
     "text": [
      "(159, 24)\n"
     ]
    }
   ],
   "source": [
    "num_vals(.7, .865)"
   ]
  },
  {
   "cell_type": "code",
   "execution_count": 11,
   "id": "633d7759-58aa-4dd9-b52a-f3be2b33982c",
   "metadata": {},
   "outputs": [
    {
     "name": "stdout",
     "output_type": "stream",
     "text": [
      "(158, 24)\n"
     ]
    }
   ],
   "source": [
    "num_vals(.865, None)"
   ]
  },
  {
   "cell_type": "code",
   "execution_count": 12,
   "id": "e0866c1a-3fe5-4c5c-9e9c-25c3eef0fce0",
   "metadata": {},
   "outputs": [],
   "source": [
    "prod_1 = baseline[baseline['rand'] < 0.28].reset_index(drop=True).drop('rand', axis=1)\n",
    "prod_1.to_csv('./prod_data_scored/prod_1.csv')"
   ]
  },
  {
   "cell_type": "code",
   "execution_count": 13,
   "id": "ffd3784e-b913-49dd-ad82-e00ada540cfe",
   "metadata": {},
   "outputs": [],
   "source": [
    "prod_2 = baseline[(baseline['rand'] >= 0.28) & (baseline['rand'] < 0.48)].reset_index(drop=True).drop('rand', axis=1)\n",
    "prod_2.to_csv('./prod_data_scored/prod_2.csv')"
   ]
  },
  {
   "cell_type": "code",
   "execution_count": 14,
   "id": "a55e4150-53a2-4564-afc9-358b788fbc0b",
   "metadata": {},
   "outputs": [],
   "source": [
    "prod_3 = baseline[(baseline['rand'] >= 0.48) & (baseline['rand'] < 0.7)].reset_index(drop=True).drop('rand', axis=1)\n",
    "prod_3.to_csv('./prod_data_scored/prod_3.csv')"
   ]
  },
  {
   "cell_type": "code",
   "execution_count": 15,
   "id": "6f6bc95a-6e5c-424e-981e-3a4b06e44bd2",
   "metadata": {},
   "outputs": [],
   "source": [
    "prod_4 = baseline[(baseline['rand'] >= 0.7) & (baseline['rand'] < 0.865)].reset_index(drop=True).drop('rand', axis=1)\n",
    "prod_4.to_csv('./prod_data_scored/prod_4.csv')"
   ]
  },
  {
   "cell_type": "code",
   "execution_count": 16,
   "id": "6d112233-a14c-4d9e-a60a-404d62fde769",
   "metadata": {},
   "outputs": [],
   "source": [
    "prod_5 = baseline[(baseline['rand'] >= 0.865)].reset_index(drop=True).drop('rand', axis=1)\n",
    "prod_5.to_csv('./prod_data_scored/prod_5.csv')"
   ]
  },
  {
   "cell_type": "code",
   "execution_count": 17,
   "id": "f2a9e2a9-f336-4533-8caa-cfb9c4b0f48c",
   "metadata": {},
   "outputs": [
    {
     "data": {
      "text/html": [
       "<div>\n",
       "<style scoped>\n",
       "    .dataframe tbody tr th:only-of-type {\n",
       "        vertical-align: middle;\n",
       "    }\n",
       "\n",
       "    .dataframe tbody tr th {\n",
       "        vertical-align: top;\n",
       "    }\n",
       "\n",
       "    .dataframe thead th {\n",
       "        text-align: right;\n",
       "    }\n",
       "</style>\n",
       "<table border=\"1\" class=\"dataframe\">\n",
       "  <thead>\n",
       "    <tr style=\"text-align: right;\">\n",
       "      <th></th>\n",
       "      <th>id</th>\n",
       "      <th>duration_months</th>\n",
       "      <th>credit_amount</th>\n",
       "      <th>installment_rate</th>\n",
       "      <th>present_residence_since</th>\n",
       "      <th>age_years</th>\n",
       "      <th>number_existing_credits</th>\n",
       "      <th>number_people_liable</th>\n",
       "      <th>label_value</th>\n",
       "      <th>score</th>\n",
       "    </tr>\n",
       "  </thead>\n",
       "  <tbody>\n",
       "    <tr>\n",
       "      <th>count</th>\n",
       "      <td>156.000000</td>\n",
       "      <td>156.000000</td>\n",
       "      <td>156.000000</td>\n",
       "      <td>156.000000</td>\n",
       "      <td>156.000000</td>\n",
       "      <td>156.000000</td>\n",
       "      <td>156.000000</td>\n",
       "      <td>156.000000</td>\n",
       "      <td>156.000000</td>\n",
       "      <td>156.000000</td>\n",
       "    </tr>\n",
       "    <tr>\n",
       "      <th>mean</th>\n",
       "      <td>444.538462</td>\n",
       "      <td>9.211538</td>\n",
       "      <td>1823.564103</td>\n",
       "      <td>2.685897</td>\n",
       "      <td>2.833333</td>\n",
       "      <td>37.846154</td>\n",
       "      <td>1.378205</td>\n",
       "      <td>1.198718</td>\n",
       "      <td>0.185897</td>\n",
       "      <td>0.365385</td>\n",
       "    </tr>\n",
       "    <tr>\n",
       "      <th>std</th>\n",
       "      <td>276.356091</td>\n",
       "      <td>2.821598</td>\n",
       "      <td>1825.798029</td>\n",
       "      <td>1.227662</td>\n",
       "      <td>1.112007</td>\n",
       "      <td>13.064680</td>\n",
       "      <td>0.583017</td>\n",
       "      <td>0.400320</td>\n",
       "      <td>0.390277</td>\n",
       "      <td>0.483089</td>\n",
       "    </tr>\n",
       "    <tr>\n",
       "      <th>min</th>\n",
       "      <td>0.000000</td>\n",
       "      <td>4.000000</td>\n",
       "      <td>250.000000</td>\n",
       "      <td>1.000000</td>\n",
       "      <td>1.000000</td>\n",
       "      <td>19.000000</td>\n",
       "      <td>1.000000</td>\n",
       "      <td>1.000000</td>\n",
       "      <td>0.000000</td>\n",
       "      <td>0.000000</td>\n",
       "    </tr>\n",
       "    <tr>\n",
       "      <th>25%</th>\n",
       "      <td>205.250000</td>\n",
       "      <td>6.000000</td>\n",
       "      <td>905.750000</td>\n",
       "      <td>1.750000</td>\n",
       "      <td>2.000000</td>\n",
       "      <td>27.000000</td>\n",
       "      <td>1.000000</td>\n",
       "      <td>1.000000</td>\n",
       "      <td>0.000000</td>\n",
       "      <td>0.000000</td>\n",
       "    </tr>\n",
       "    <tr>\n",
       "      <th>50%</th>\n",
       "      <td>431.000000</td>\n",
       "      <td>9.000000</td>\n",
       "      <td>1311.000000</td>\n",
       "      <td>3.000000</td>\n",
       "      <td>3.000000</td>\n",
       "      <td>35.000000</td>\n",
       "      <td>1.000000</td>\n",
       "      <td>1.000000</td>\n",
       "      <td>0.000000</td>\n",
       "      <td>0.000000</td>\n",
       "    </tr>\n",
       "    <tr>\n",
       "      <th>75%</th>\n",
       "      <td>695.500000</td>\n",
       "      <td>12.000000</td>\n",
       "      <td>2087.000000</td>\n",
       "      <td>4.000000</td>\n",
       "      <td>4.000000</td>\n",
       "      <td>47.250000</td>\n",
       "      <td>2.000000</td>\n",
       "      <td>1.000000</td>\n",
       "      <td>0.000000</td>\n",
       "      <td>1.000000</td>\n",
       "    </tr>\n",
       "    <tr>\n",
       "      <th>max</th>\n",
       "      <td>991.000000</td>\n",
       "      <td>15.000000</td>\n",
       "      <td>14896.000000</td>\n",
       "      <td>4.000000</td>\n",
       "      <td>4.000000</td>\n",
       "      <td>75.000000</td>\n",
       "      <td>3.000000</td>\n",
       "      <td>2.000000</td>\n",
       "      <td>1.000000</td>\n",
       "      <td>1.000000</td>\n",
       "    </tr>\n",
       "  </tbody>\n",
       "</table>\n",
       "</div>"
      ],
      "text/plain": [
       "               id  duration_months  credit_amount  installment_rate  \\\n",
       "count  156.000000       156.000000     156.000000        156.000000   \n",
       "mean   444.538462         9.211538    1823.564103          2.685897   \n",
       "std    276.356091         2.821598    1825.798029          1.227662   \n",
       "min      0.000000         4.000000     250.000000          1.000000   \n",
       "25%    205.250000         6.000000     905.750000          1.750000   \n",
       "50%    431.000000         9.000000    1311.000000          3.000000   \n",
       "75%    695.500000        12.000000    2087.000000          4.000000   \n",
       "max    991.000000        15.000000   14896.000000          4.000000   \n",
       "\n",
       "       present_residence_since   age_years  number_existing_credits  \\\n",
       "count               156.000000  156.000000               156.000000   \n",
       "mean                  2.833333   37.846154                 1.378205   \n",
       "std                   1.112007   13.064680                 0.583017   \n",
       "min                   1.000000   19.000000                 1.000000   \n",
       "25%                   2.000000   27.000000                 1.000000   \n",
       "50%                   3.000000   35.000000                 1.000000   \n",
       "75%                   4.000000   47.250000                 2.000000   \n",
       "max                   4.000000   75.000000                 3.000000   \n",
       "\n",
       "       number_people_liable  label_value       score  \n",
       "count            156.000000   156.000000  156.000000  \n",
       "mean               1.198718     0.185897    0.365385  \n",
       "std                0.400320     0.390277    0.483089  \n",
       "min                1.000000     0.000000    0.000000  \n",
       "25%                1.000000     0.000000    0.000000  \n",
       "50%                1.000000     0.000000    0.000000  \n",
       "75%                1.000000     0.000000    1.000000  \n",
       "max                2.000000     1.000000    1.000000  "
      ]
     },
     "execution_count": 17,
     "metadata": {},
     "output_type": "execute_result"
    }
   ],
   "source": [
    "prod_1.describe()"
   ]
  },
  {
   "cell_type": "code",
   "execution_count": 18,
   "id": "60fee736-61cb-4f03-aafe-0333f3b9a9d8",
   "metadata": {},
   "outputs": [
    {
     "data": {
      "text/html": [
       "<div>\n",
       "<style scoped>\n",
       "    .dataframe tbody tr th:only-of-type {\n",
       "        vertical-align: middle;\n",
       "    }\n",
       "\n",
       "    .dataframe tbody tr th {\n",
       "        vertical-align: top;\n",
       "    }\n",
       "\n",
       "    .dataframe thead th {\n",
       "        text-align: right;\n",
       "    }\n",
       "</style>\n",
       "<table border=\"1\" class=\"dataframe\">\n",
       "  <thead>\n",
       "    <tr style=\"text-align: right;\">\n",
       "      <th></th>\n",
       "      <th>id</th>\n",
       "      <th>duration_months</th>\n",
       "      <th>credit_amount</th>\n",
       "      <th>installment_rate</th>\n",
       "      <th>present_residence_since</th>\n",
       "      <th>age_years</th>\n",
       "      <th>number_existing_credits</th>\n",
       "      <th>number_people_liable</th>\n",
       "      <th>label_value</th>\n",
       "      <th>score</th>\n",
       "    </tr>\n",
       "  </thead>\n",
       "  <tbody>\n",
       "    <tr>\n",
       "      <th>count</th>\n",
       "      <td>158.000000</td>\n",
       "      <td>158.000000</td>\n",
       "      <td>158.000000</td>\n",
       "      <td>158.000000</td>\n",
       "      <td>158.000000</td>\n",
       "      <td>158.000000</td>\n",
       "      <td>158.000000</td>\n",
       "      <td>158.000000</td>\n",
       "      <td>158.000000</td>\n",
       "      <td>158.000000</td>\n",
       "    </tr>\n",
       "    <tr>\n",
       "      <th>mean</th>\n",
       "      <td>492.860759</td>\n",
       "      <td>35.512658</td>\n",
       "      <td>5376.924051</td>\n",
       "      <td>3.075949</td>\n",
       "      <td>2.873418</td>\n",
       "      <td>36.139241</td>\n",
       "      <td>1.449367</td>\n",
       "      <td>1.132911</td>\n",
       "      <td>0.449367</td>\n",
       "      <td>0.468354</td>\n",
       "    </tr>\n",
       "    <tr>\n",
       "      <th>std</th>\n",
       "      <td>296.823962</td>\n",
       "      <td>10.371284</td>\n",
       "      <td>3510.409921</td>\n",
       "      <td>1.079893</td>\n",
       "      <td>1.110082</td>\n",
       "      <td>11.083624</td>\n",
       "      <td>0.559202</td>\n",
       "      <td>0.340558</td>\n",
       "      <td>0.499011</td>\n",
       "      <td>0.500584</td>\n",
       "    </tr>\n",
       "    <tr>\n",
       "      <th>min</th>\n",
       "      <td>6.000000</td>\n",
       "      <td>24.000000</td>\n",
       "      <td>909.000000</td>\n",
       "      <td>1.000000</td>\n",
       "      <td>1.000000</td>\n",
       "      <td>21.000000</td>\n",
       "      <td>1.000000</td>\n",
       "      <td>1.000000</td>\n",
       "      <td>0.000000</td>\n",
       "      <td>0.000000</td>\n",
       "    </tr>\n",
       "    <tr>\n",
       "      <th>25%</th>\n",
       "      <td>225.250000</td>\n",
       "      <td>24.000000</td>\n",
       "      <td>2691.000000</td>\n",
       "      <td>2.000000</td>\n",
       "      <td>2.000000</td>\n",
       "      <td>28.000000</td>\n",
       "      <td>1.000000</td>\n",
       "      <td>1.000000</td>\n",
       "      <td>0.000000</td>\n",
       "      <td>0.000000</td>\n",
       "    </tr>\n",
       "    <tr>\n",
       "      <th>50%</th>\n",
       "      <td>489.000000</td>\n",
       "      <td>36.000000</td>\n",
       "      <td>4339.000000</td>\n",
       "      <td>4.000000</td>\n",
       "      <td>3.000000</td>\n",
       "      <td>34.000000</td>\n",
       "      <td>1.000000</td>\n",
       "      <td>1.000000</td>\n",
       "      <td>0.000000</td>\n",
       "      <td>0.000000</td>\n",
       "    </tr>\n",
       "    <tr>\n",
       "      <th>75%</th>\n",
       "      <td>762.500000</td>\n",
       "      <td>42.000000</td>\n",
       "      <td>7408.750000</td>\n",
       "      <td>4.000000</td>\n",
       "      <td>4.000000</td>\n",
       "      <td>42.000000</td>\n",
       "      <td>2.000000</td>\n",
       "      <td>1.000000</td>\n",
       "      <td>1.000000</td>\n",
       "      <td>1.000000</td>\n",
       "    </tr>\n",
       "    <tr>\n",
       "      <th>max</th>\n",
       "      <td>998.000000</td>\n",
       "      <td>72.000000</td>\n",
       "      <td>18424.000000</td>\n",
       "      <td>4.000000</td>\n",
       "      <td>4.000000</td>\n",
       "      <td>75.000000</td>\n",
       "      <td>4.000000</td>\n",
       "      <td>2.000000</td>\n",
       "      <td>1.000000</td>\n",
       "      <td>1.000000</td>\n",
       "    </tr>\n",
       "  </tbody>\n",
       "</table>\n",
       "</div>"
      ],
      "text/plain": [
       "               id  duration_months  credit_amount  installment_rate  \\\n",
       "count  158.000000       158.000000     158.000000        158.000000   \n",
       "mean   492.860759        35.512658    5376.924051          3.075949   \n",
       "std    296.823962        10.371284    3510.409921          1.079893   \n",
       "min      6.000000        24.000000     909.000000          1.000000   \n",
       "25%    225.250000        24.000000    2691.000000          2.000000   \n",
       "50%    489.000000        36.000000    4339.000000          4.000000   \n",
       "75%    762.500000        42.000000    7408.750000          4.000000   \n",
       "max    998.000000        72.000000   18424.000000          4.000000   \n",
       "\n",
       "       present_residence_since   age_years  number_existing_credits  \\\n",
       "count               158.000000  158.000000               158.000000   \n",
       "mean                  2.873418   36.139241                 1.449367   \n",
       "std                   1.110082   11.083624                 0.559202   \n",
       "min                   1.000000   21.000000                 1.000000   \n",
       "25%                   2.000000   28.000000                 1.000000   \n",
       "50%                   3.000000   34.000000                 1.000000   \n",
       "75%                   4.000000   42.000000                 2.000000   \n",
       "max                   4.000000   75.000000                 4.000000   \n",
       "\n",
       "       number_people_liable  label_value       score  \n",
       "count            158.000000   158.000000  158.000000  \n",
       "mean               1.132911     0.449367    0.468354  \n",
       "std                0.340558     0.499011    0.500584  \n",
       "min                1.000000     0.000000    0.000000  \n",
       "25%                1.000000     0.000000    0.000000  \n",
       "50%                1.000000     0.000000    0.000000  \n",
       "75%                1.000000     1.000000    1.000000  \n",
       "max                2.000000     1.000000    1.000000  "
      ]
     },
     "execution_count": 18,
     "metadata": {},
     "output_type": "execute_result"
    }
   ],
   "source": [
    "prod_5.describe()"
   ]
  }
 ],
 "metadata": {
  "kernelspec": {
   "display_name": "Python 3 (ipykernel)",
   "language": "python",
   "name": "python3"
  },
  "language_info": {
   "codemirror_mode": {
    "name": "ipython",
    "version": 3
   },
   "file_extension": ".py",
   "mimetype": "text/x-python",
   "name": "python",
   "nbconvert_exporter": "python",
   "pygments_lexer": "ipython3",
   "version": "3.8.5"
  }
 },
 "nbformat": 4,
 "nbformat_minor": 5
}
